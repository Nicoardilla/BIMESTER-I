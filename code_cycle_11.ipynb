{
  "nbformat": 4,
  "nbformat_minor": 0,
  "metadata": {
    "colab": {
      "provenance": [],
      "authorship_tag": "ABX9TyOgWLNFCYU90IETgP3qZuM/",
      "include_colab_link": true
    },
    "kernelspec": {
      "name": "python3",
      "display_name": "Python 3"
    },
    "language_info": {
      "name": "python"
    }
  },
  "cells": [
    {
      "cell_type": "markdown",
      "metadata": {
        "id": "view-in-github",
        "colab_type": "text"
      },
      "source": [
        "<a href=\"https://colab.research.google.com/github/Nicoardilla/BIMESTER-I/blob/main/code_cycle_11.ipynb\" target=\"_parent\"><img src=\"https://colab.research.google.com/assets/colab-badge.svg\" alt=\"Open In Colab\"/></a>"
      ]
    },
    {
      "cell_type": "markdown",
      "source": [
        "ACTIVITY 1 and 2\n"
      ],
      "metadata": {
        "id": "119s8gc4FK77"
      }
    },
    {
      "cell_type": "code",
      "execution_count": null,
      "metadata": {
        "id": "stQBR_GH7ki8",
        "collapsed": true
      },
      "outputs": [],
      "source": [
        "\n",
        " nom = input(\"enter your name : \")\n",
        " ate = int(input(\"enter your age : \"))\n",
        " print(\"Nice to meet you\", nom )\n",
        " print(\"So you are \", ate , \"!\")\n",
        "\n",
        "if ate <=30 :\n",
        "   print(\"You are still young, it´s been a long time since I saw someone new!\")\n",
        "if ate >30 :\n",
        "   if ate <=50 :\n",
        "          print(\"it is nice to see someone from the metal ages, I am glad to text you!\")\n",
        "if ate >50:\n",
        "  if ate <=70:\n",
        "            print(\"It is always nice to meet someone from the neolithic, it is a pleasure to text you!\")\n",
        "if ate >=70:\n",
        "      print(\"You must be an interesting person! it is nice to see someone from the Paleolithic :) \")"
      ]
    },
    {
      "cell_type": "markdown",
      "source": [
        "ACT. 3"
      ],
      "metadata": {
        "id": "CRvRc-A_FP86"
      }
    },
    {
      "cell_type": "code",
      "source": [
        "print(\"We are going to play some games :) \")\n",
        "julius= int(input(\"enter the first number : \"))\n",
        "cristian= int(input(\"enter your second number : \"))\n",
        "print(\"the sum of your numbers is\", julius + cristian)\n",
        "\n",
        "print(\"The product of them is \", julius * cristian)\n",
        "\n",
        "print(\"Now the difference is \", julius - cristian)\n",
        "\n",
        "print(\"NOWWWWWW the quotient between the first and second number is \", julius/ cristian)\n"
      ],
      "metadata": {
        "collapsed": true,
        "id": "vY37E390_7Pm"
      },
      "execution_count": null,
      "outputs": []
    },
    {
      "cell_type": "markdown",
      "source": [
        "ACT.4"
      ],
      "metadata": {
        "id": "QLSTE9jWFYqp"
      }
    },
    {
      "cell_type": "code",
      "source": [
        "print(\"HEY!\")\n",
        "j= int(input(\"To continue with the game, can you please enter one number ? : \"))\n",
        "c= int(input(\" Now can you enter a second one ? : \"))\n",
        "e= int(input(\"NOW ENTER A THIRD ONE PLEASE ?\"))\n",
        "input(\"I am going to ask you something very important...\")\n",
        "\n",
        "h= int(input(\"Enter a fourth number please : \"))\n",
        "\n",
        "print(\"The average of your number is \", (j+c+e+h ) /4 )"
      ],
      "metadata": {
        "id": "m5wqRIPkDhTS"
      },
      "execution_count": null,
      "outputs": []
    },
    {
      "cell_type": "markdown",
      "source": [
        "ACT 5"
      ],
      "metadata": {
        "id": "xKeeYWbGFbh5"
      }
    },
    {
      "cell_type": "code",
      "source": [
        "print(\"Imagine something...\")\n",
        "cris= int(input(\"Now we are going to see a quadrilateral, a rectangle , can you please enter the width ? \"))\n",
        "juli= int(input(\"And now the height is \"))\n",
        "print(\"The area is \", cris*juli )\n",
        "print(\"The perimeter is\", 2*(cris+juli))"
      ],
      "metadata": {
        "id": "0DJFt9hnFzyA"
      },
      "execution_count": null,
      "outputs": []
    },
    {
      "cell_type": "markdown",
      "source": [
        "ACT 6"
      ],
      "metadata": {
        "id": "Z-Sn5xSUFkkg"
      }
    },
    {
      "cell_type": "code",
      "source": [
        "print(\"NOW WE ARE GOING TO DO A TRIANGLE :D\")\n",
        "BA= int(input(\" Enter the lenght of the base : \"))\n",
        "LE= int(input(\"andd nowwwwww the height is going to be ...\"))\n",
        "print(\"The area of your triangle is \", (BA*LE)/2)\n"
      ],
      "metadata": {
        "id": "-qQPLpKNGXOu"
      },
      "execution_count": null,
      "outputs": []
    },
    {
      "cell_type": "markdown",
      "source": [
        "ACT 7"
      ],
      "metadata": {
        "id": "2yMVR3j6M7oh"
      }
    },
    {
      "cell_type": "code",
      "source": [
        "print(\"Let´s continue with a circumference\")\n",
        "dia= int(input(\"enter an even number \"))\n",
        "print(\"Let´s think that the diameter of your circurference is\", dia )\n",
        "print(\" \")\n",
        "print(\"The radio of your circumference is equal to the diameter between two\")\n",
        "radio= int(input(\"so what´s your radio? \"))\n",
        "print(\"   \")\n",
        "if radio == dia/2 :\n",
        "    print(\"You are correct!\")\n",
        "if radio != dia/2:\n",
        "    print(\"Sorry, the correct answer is \", dia/2)\n",
        "print(\"           \")\n",
        "radi= dia/2\n",
        "print(\"That means that the area is \", radi*radi,\"π \")\n",
        "print(\" \")\n",
        "print(\"And the perimeter is going to be \", dia,\"π\")\n",
        "\n",
        "\n"
      ],
      "metadata": {
        "collapsed": true,
        "id": "cdm4iZoLM9ML"
      },
      "execution_count": null,
      "outputs": []
    },
    {
      "cell_type": "markdown",
      "source": [
        "act 8"
      ],
      "metadata": {
        "id": "QIcgbOGfNwne"
      }
    },
    {
      "cell_type": "code",
      "source": [
        "print(\" We are going to do a conversor of money from soles to dolars\")\n",
        "hucky= int(input(\"Enter the amount of soles you want to convert : \"))\n",
        "chihuahua = hucky/3.74\n",
        "print(\"The amount of dolars you are going to have is \", round(chihuahua ,2) )\n"
      ],
      "metadata": {
        "id": "-h8MOMYbY0__"
      },
      "execution_count": null,
      "outputs": []
    },
    {
      "cell_type": "markdown",
      "source": [
        "ACT 9"
      ],
      "metadata": {
        "id": "Z7zl4u68djA-"
      }
    },
    {
      "cell_type": "code",
      "source": [
        "\n",
        "print(\"I have an idea\")\n",
        "cristian= input(\"Enter a country please \")\n",
        "julius= input(\"And now the continent where its located! \")\n",
        "arelis= input(\" The currency that the country uses is ? \")\n",
        "cielo= input(\" A touristic place? \")\n",
        "print(\"I present to you ... \")\n",
        "print(\"In the continent of \",julius)\n",
        "print(\"We can find an amazing country called\", cristian)\n",
        "print(\"were you can find the touristic place of\", cielo)\n",
        "print(\"and... you may need to change your money, since their currency are \",arelis)\n",
        "print(\" \")\n",
        "uwu= int(input(\" on a range of 1 to 3, did you liked my text? \"))\n",
        "print(\" \")\n",
        "if uwu==1 :\n",
        "  print(\"I am going to put on my sad face...\")\n",
        "if uwu==2:\n",
        "  print(\"Thanks!\")\n",
        "if uwu==3:\n",
        "  print(\"I knew you would like it! I'm a humurous cat , it's my talent!\")\n",
        ""
      ],
      "metadata": {
        "id": "qNkQlxrwditD"
      },
      "execution_count": null,
      "outputs": []
    },
    {
      "cell_type": "markdown",
      "source": [
        "ACT 10"
      ],
      "metadata": {
        "id": "WwfP1mL3fz5W"
      }
    },
    {
      "cell_type": "code",
      "source": [
        "print(\"My dear friend... this is the last game\")\n",
        "ci= input(\"Are you going to miss me ? yes right? :c \")\n",
        "\n",
        "if ci == \"yes\" :\n",
        "  print(\"me too :,c\")\n",
        "\n",
        "if ci== \"no\":\n",
        "  print(\"ouch\")\n",
        "\n",
        "\n",
        "print(\" \")\n",
        "print(\"I want to do something useful for you!\")\n",
        "print(\" \")\n",
        "matteo= input(\"do you know what the IMC is?, yes or no please.... \")\n",
        "print(\" \")\n",
        "\n",
        "if matteo== \"yes\":\n",
        "  print(\"Perfect way to see if you have a healthy weight for your height!\")\n",
        "if matteo== \"no\":\n",
        "  print(\"It is a way to see if you have a healthy weight for your height.\")\n",
        "print(\" \")\n",
        "\n",
        "cangrejo= int(input(\"To do it, please enter the number of your height in centimeters \"))\n",
        "print(\"  \")\n",
        "\n",
        "perrito= cangrejo/100\n",
        "\n",
        "gatito= int(input(\"And now the number of your weight in kilograms \"))\n",
        "\n",
        "print(\" \")\n",
        "\n",
        "print(\"The formula for the IMC is your weight divided by the square of your height in meters \")\n",
        "\n",
        "acha = gatito/(perrito*perrito)\n",
        "IMAGINA= round(acha, 1)\n",
        "\n",
        "print(\"that means that your IMC is \", IMAGINA )\n",
        "print(\" \")\n",
        "print(\"there are 6 levels for this\")\n",
        "\n",
        "if IMAGINA < 18.5:\n",
        "   print(\"In your case you are underweight\")\n",
        "   print(\" \")\n",
        "   input(\"it would be great to see a doctor, you know?\")\n",
        "   print(\"Take care of yourself!\")\n",
        "   print(\"You can always ask for help, dont worry!\")\n",
        "   print(\" \")\n",
        "\n",
        "if IMAGINA >18.5:\n",
        "  if IMAGINA <25:\n",
        "    print(\"You are in the second level\")\n",
        "    print(\" \")\n",
        "    print(\"you are a healthy person!, that is great!\")\n",
        "    print(\"Keep taking care of yourself\")\n",
        "    print(\" \")\n",
        "    print(\"Remember that you are the most important person in your life\")\n",
        "    print(\" \")\n",
        "\n",
        "if IMAGINA >=25:\n",
        "  if IMAGINA <30:\n",
        "    print(\"You are in the third level, that means that...\")\n",
        "    print(\" \")\n",
        "    print(\"You are a little overweight, but dont worry!\")\n",
        "    print(\" \")\n",
        "    print(\"Try keeping a healthy lifestyle and ask to a doctor\")\n",
        "    print(\"All is going to be nice if you stick with it!\")\n",
        "    print(\" \")\n",
        "\n",
        "if IMAGINA >= 30:\n",
        "  if IMAGINA <35:\n",
        "    print(\"You are in the fourth level\")\n",
        "    print(\" \")\n",
        "    print(\"Please ask to a doctor, it's very important \")\n",
        "    print(\" \")\n",
        "    print(\"Your health may be in a very BAD situation\")\n",
        "    print(\" \")\n",
        "    print(\"I know that you will overcome this!\")\n",
        "    print(\" \")\n",
        "\n",
        "\n",
        "if IMAGINA >= 35:\n",
        "  if IMAGINA <40:\n",
        "    print(\"You are in the level number five...\")\n",
        "    print(\"See a doctor in this moment please...\")\n",
        "    print(\"and a psychologist.\")\n",
        "    print(\"You might be facing a lot of problems\")\n",
        "    print(\"But remember that your life is important\")\n",
        "\n",
        "if IMAGINA >= 40:\n",
        "  print(\"You are in the last level, the number six...\")\n",
        "  print(\" \")\n",
        "  print(\" SEE A DOCTOR\")\n",
        "  print(\"Also a psychologist\")\n",
        "  print(\" \")\n",
        "  print(\"Your health is IN DANGER\")\n",
        "  print(\" \")\n",
        "  print(\"Please do it\")\n",
        "  print(\" \")\n",
        "  print(\"And stick to it!\")\n",
        "  print(\" \")\n",
        "\n",
        "\n",
        "input(\"I think this is the end for me \")\n",
        "print(\" \")\n",
        "print(\"I was just a program with the goal of making your day better\")\n",
        "print(\"    \")\n",
        "print(\"This is so sad for me \")\n",
        "print(\"  \")\n",
        "print(\"It was a pleasure to meet you, have a great life for me!\")\n",
        "print(\"I belive in you!\")\n",
        "print(\" \")\n",
        "print(\"THE END\")\n",
        "\n",
        "\n"
      ],
      "metadata": {
        "colab": {
          "base_uri": "https://localhost:8080/"
        },
        "id": "tLtJFGbVmCEJ",
        "outputId": "fc40644e-3d7b-4e15-9f30-a72ba0eabfd2"
      },
      "execution_count": 94,
      "outputs": [
        {
          "output_type": "stream",
          "name": "stdout",
          "text": [
            "My dear friend... this is the last game\n",
            "Are you going to miss me ? yes right? :c yes\n",
            "me too :,c\n",
            " \n",
            "I want to do something useful for you!\n",
            " \n",
            "do you know what the IMC is?, yes or no please.... no\n",
            " \n",
            "It is a way to see if you have a healthy weight for your height.\n",
            " \n",
            "To do it, please enter the number of your height in centimeters 160\n",
            "  \n",
            "And now the number of your weight in kilograms 80\n",
            " \n",
            "The formula for the IMC is your weight divided by the square of your height in meters \n",
            "that means that your IMC is  31.2\n",
            " \n",
            "there are 6 levels for this\n",
            "You are in the fourth level\n",
            " \n",
            "Please ask to a doctor, it's very important \n",
            " \n",
            "Your health may be in a very BAD situation\n",
            " \n",
            "I know that you will overcome this!\n",
            " \n",
            "I think this is the end for me why\n",
            " \n",
            "I was just a program with the goal of making your day better\n",
            "    \n",
            "This is so sad for me \n",
            "  \n",
            "It was a pleasure to meet you, have a great life for me!\n",
            "I belive in you!\n",
            " \n",
            "THE END\n"
          ]
        }
      ]
    }
  ]
}